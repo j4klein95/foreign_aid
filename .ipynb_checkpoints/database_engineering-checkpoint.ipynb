{
 "cells": [
  {
   "cell_type": "code",
   "execution_count": 1,
   "metadata": {
    "collapsed": true
   },
   "outputs": [],
   "source": [
    "#import dependencies needed for SQL work\n",
    "import sqlalchemy\n",
    "from sqlalchemy.ext.automap import automap_base\n",
    "from sqlalchemy.orm import Session\n",
    "from sqlalchemy import create_engine\n",
    "from sqlalchemy import func\n",
    "from flask import Flask, jsonify\n",
    "import datetime as dt\n",
    "\n",
    "from sqlalchemy.ext.declarative import declarative_base\n",
    "Base = declarative_base()\n",
    "\n",
    "from sqlalchemy import Column, Integer, String, Float\n",
    "\n",
    "import pandas as pd\n",
    "import numpy as np"
   ]
  },
  {
   "cell_type": "code",
   "execution_count": 2,
   "metadata": {
    "collapsed": true
   },
   "outputs": [],
   "source": [
    "#create an engine\n",
    "engine = create_engine('sqlite:///foreignaid.sqlite', echo=False)"
   ]
  },
  {
   "cell_type": "code",
   "execution_count": 3,
   "metadata": {
    "collapsed": true
   },
   "outputs": [],
   "source": [
    "df1 = pd.read_csv('clean_data/gdp_lit_aid.csv')\n",
    "df2 = pd.read_csv('clean_data/life_clean.csv')\n",
    "df3 = pd.read_csv('clean_data/sector.csv')\n",
    "df1 = df1.drop(['id'], axis=1)"
   ]
  },
  {
   "cell_type": "code",
   "execution_count": 4,
   "metadata": {},
   "outputs": [
    {
     "data": {
      "text/html": [
       "<div>\n",
       "<style>\n",
       "    .dataframe thead tr:only-child th {\n",
       "        text-align: right;\n",
       "    }\n",
       "\n",
       "    .dataframe thead th {\n",
       "        text-align: left;\n",
       "    }\n",
       "\n",
       "    .dataframe tbody tr th {\n",
       "        vertical-align: top;\n",
       "    }\n",
       "</style>\n",
       "<table border=\"1\" class=\"dataframe\">\n",
       "  <thead>\n",
       "    <tr style=\"text-align: right;\">\n",
       "      <th></th>\n",
       "      <th>country</th>\n",
       "      <th>year</th>\n",
       "      <th>gdp_per_capita</th>\n",
       "      <th>literacy_rate</th>\n",
       "      <th>net_aid_received</th>\n",
       "    </tr>\n",
       "  </thead>\n",
       "  <tbody>\n",
       "    <tr>\n",
       "      <th>0</th>\n",
       "      <td>Afghanistan</td>\n",
       "      <td>1990</td>\n",
       "      <td>0.0</td>\n",
       "      <td>0.0</td>\n",
       "      <td>121720000.0</td>\n",
       "    </tr>\n",
       "    <tr>\n",
       "      <th>1</th>\n",
       "      <td>Afghanistan</td>\n",
       "      <td>1991</td>\n",
       "      <td>0.0</td>\n",
       "      <td>0.0</td>\n",
       "      <td>507530000.0</td>\n",
       "    </tr>\n",
       "    <tr>\n",
       "      <th>2</th>\n",
       "      <td>Afghanistan</td>\n",
       "      <td>1992</td>\n",
       "      <td>0.0</td>\n",
       "      <td>0.0</td>\n",
       "      <td>204900000.0</td>\n",
       "    </tr>\n",
       "  </tbody>\n",
       "</table>\n",
       "</div>"
      ],
      "text/plain": [
       "       country  year  gdp_per_capita  literacy_rate  net_aid_received\n",
       "0  Afghanistan  1990             0.0            0.0       121720000.0\n",
       "1  Afghanistan  1991             0.0            0.0       507530000.0\n",
       "2  Afghanistan  1992             0.0            0.0       204900000.0"
      ]
     },
     "execution_count": 4,
     "metadata": {},
     "output_type": "execute_result"
    }
   ],
   "source": [
    "df1.head(3)"
   ]
  },
  {
   "cell_type": "code",
   "execution_count": 5,
   "metadata": {},
   "outputs": [
    {
     "data": {
      "text/html": [
       "<div>\n",
       "<style>\n",
       "    .dataframe thead tr:only-child th {\n",
       "        text-align: right;\n",
       "    }\n",
       "\n",
       "    .dataframe thead th {\n",
       "        text-align: left;\n",
       "    }\n",
       "\n",
       "    .dataframe tbody tr th {\n",
       "        vertical-align: top;\n",
       "    }\n",
       "</style>\n",
       "<table border=\"1\" class=\"dataframe\">\n",
       "  <thead>\n",
       "    <tr style=\"text-align: right;\">\n",
       "      <th></th>\n",
       "      <th>year</th>\n",
       "      <th>ida_only</th>\n",
       "      <th>lower_middle_income</th>\n",
       "      <th>low_middle_income</th>\n",
       "      <th>health</th>\n",
       "    </tr>\n",
       "  </thead>\n",
       "  <tbody>\n",
       "    <tr>\n",
       "      <th>0</th>\n",
       "      <td>1990</td>\n",
       "      <td>53.039285</td>\n",
       "      <td>59.513275</td>\n",
       "      <td>63.106052</td>\n",
       "      <td>1613.27</td>\n",
       "    </tr>\n",
       "    <tr>\n",
       "      <th>1</th>\n",
       "      <td>1991</td>\n",
       "      <td>53.301928</td>\n",
       "      <td>59.829442</td>\n",
       "      <td>63.326673</td>\n",
       "      <td>1424.84</td>\n",
       "    </tr>\n",
       "    <tr>\n",
       "      <th>2</th>\n",
       "      <td>1992</td>\n",
       "      <td>53.582540</td>\n",
       "      <td>60.183902</td>\n",
       "      <td>63.493558</td>\n",
       "      <td>1617.43</td>\n",
       "    </tr>\n",
       "  </tbody>\n",
       "</table>\n",
       "</div>"
      ],
      "text/plain": [
       "   year   ida_only  lower_middle_income  low_middle_income   health\n",
       "0  1990  53.039285            59.513275          63.106052  1613.27\n",
       "1  1991  53.301928            59.829442          63.326673  1424.84\n",
       "2  1992  53.582540            60.183902          63.493558  1617.43"
      ]
     },
     "execution_count": 5,
     "metadata": {},
     "output_type": "execute_result"
    }
   ],
   "source": [
    "df2.head(3)"
   ]
  },
  {
   "cell_type": "code",
   "execution_count": 6,
   "metadata": {},
   "outputs": [
    {
     "data": {
      "text/html": [
       "<div>\n",
       "<style>\n",
       "    .dataframe thead tr:only-child th {\n",
       "        text-align: right;\n",
       "    }\n",
       "\n",
       "    .dataframe thead th {\n",
       "        text-align: left;\n",
       "    }\n",
       "\n",
       "    .dataframe tbody tr th {\n",
       "        vertical-align: top;\n",
       "    }\n",
       "</style>\n",
       "<table border=\"1\" class=\"dataframe\">\n",
       "  <thead>\n",
       "    <tr style=\"text-align: right;\">\n",
       "      <th></th>\n",
       "      <th>year</th>\n",
       "      <th>education</th>\n",
       "      <th>health</th>\n",
       "      <th>government</th>\n",
       "      <th>economic</th>\n",
       "      <th>business</th>\n",
       "      <th>production</th>\n",
       "      <th>multi-sector</th>\n",
       "    </tr>\n",
       "  </thead>\n",
       "  <tbody>\n",
       "    <tr>\n",
       "      <th>0</th>\n",
       "      <td>1990</td>\n",
       "      <td>5664.71</td>\n",
       "      <td>1613.27</td>\n",
       "      <td>1735.06</td>\n",
       "      <td>8382.07</td>\n",
       "      <td>394.33</td>\n",
       "      <td>6878.85</td>\n",
       "      <td>1871.51</td>\n",
       "    </tr>\n",
       "    <tr>\n",
       "      <th>1</th>\n",
       "      <td>1991</td>\n",
       "      <td>4973.52</td>\n",
       "      <td>1424.84</td>\n",
       "      <td>1387.19</td>\n",
       "      <td>12182.65</td>\n",
       "      <td>308.94</td>\n",
       "      <td>6199.57</td>\n",
       "      <td>1524.03</td>\n",
       "    </tr>\n",
       "    <tr>\n",
       "      <th>2</th>\n",
       "      <td>1992</td>\n",
       "      <td>4793.35</td>\n",
       "      <td>1617.43</td>\n",
       "      <td>1717.47</td>\n",
       "      <td>8038.75</td>\n",
       "      <td>430.42</td>\n",
       "      <td>8069.91</td>\n",
       "      <td>2041.24</td>\n",
       "    </tr>\n",
       "  </tbody>\n",
       "</table>\n",
       "</div>"
      ],
      "text/plain": [
       "   year  education   health  government  economic  business  production  \\\n",
       "0  1990    5664.71  1613.27     1735.06   8382.07    394.33     6878.85   \n",
       "1  1991    4973.52  1424.84     1387.19  12182.65    308.94     6199.57   \n",
       "2  1992    4793.35  1617.43     1717.47   8038.75    430.42     8069.91   \n",
       "\n",
       "   multi-sector  \n",
       "0       1871.51  \n",
       "1       1524.03  \n",
       "2       2041.24  "
      ]
     },
     "execution_count": 6,
     "metadata": {},
     "output_type": "execute_result"
    }
   ],
   "source": [
    "df3.head(3)"
   ]
  },
  {
   "cell_type": "code",
   "execution_count": 7,
   "metadata": {
    "collapsed": true
   },
   "outputs": [],
   "source": [
    "#create our ORM classes\n",
    "class Gdp_Lit_Aid(Base):\n",
    "    __tablename__ = 'gdp_lit_aid'\n",
    "    country = Column(String(255), primary_key=True)\n",
    "    year = Column(Integer)\n",
    "    gdp_per_capita = Column(Float)\n",
    "    literacy_rate = Column(Float)\n",
    "    net_aid_received = Column(Float)"
   ]
  },
  {
   "cell_type": "code",
   "execution_count": 8,
   "metadata": {
    "collapsed": true
   },
   "outputs": [],
   "source": [
    "#class for health\n",
    "class Health(Base):\n",
    "    __tablename__ = 'health'\n",
    "    year = Column(Integer, primary_key=True)\n",
    "    ida_only = Column(Float)\n",
    "    lower_middle_income = Column(Float)\n",
    "    low_middle_income = Column(Float)\n",
    "    health = Column(Float)"
   ]
  },
  {
   "cell_type": "code",
   "execution_count": 9,
   "metadata": {},
   "outputs": [],
   "source": [
    "#class for spending by sector\n",
    "class Sector(Base):\n",
    "    __tablename__ = 'sector'\n",
    "    year = Column(Integer, primary_key=True)\n",
    "    education = Column(Float)\n",
    "    health = Column(Float)\n",
    "    government = Column(Float)\n",
    "    economic = Column(Float)\n",
    "    business = Column(Float)\n",
    "    production = Column(Float)\n",
    "    multi_sector = Column(Float)"
   ]
  },
  {
   "cell_type": "code",
   "execution_count": 10,
   "metadata": {
    "collapsed": true
   },
   "outputs": [],
   "source": [
    "Base.metadata.create_all(engine)"
   ]
  },
  {
   "cell_type": "code",
   "execution_count": 11,
   "metadata": {
    "collapsed": true
   },
   "outputs": [],
   "source": [
    "df1.to_sql('gdp_lit_aid', engine, if_exists = 'replace', index=False)\n",
    "df2.to_sql('health', engine, if_exists = 'replace', index=False)\n",
    "df3.to_sql('sector', engine, if_exists = 'replace', index=False)"
   ]
  },
  {
   "cell_type": "code",
   "execution_count": null,
   "metadata": {
    "collapsed": true
   },
   "outputs": [],
   "source": []
  }
 ],
 "metadata": {
  "kernelspec": {
   "display_name": "Python [conda env:PythonData]",
   "language": "python",
   "name": "conda-env-PythonData-py"
  },
  "language_info": {
   "codemirror_mode": {
    "name": "ipython",
    "version": 3
   },
   "file_extension": ".py",
   "mimetype": "text/x-python",
   "name": "python",
   "nbconvert_exporter": "python",
   "pygments_lexer": "ipython3",
   "version": "3.6.3"
  }
 },
 "nbformat": 4,
 "nbformat_minor": 2
}
